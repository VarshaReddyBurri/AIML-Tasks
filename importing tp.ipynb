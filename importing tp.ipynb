{
 "cells": [
  {
   "cell_type": "code",
   "execution_count": 1,
   "id": "627cd7d2-56d1-4593-a7e5-1237a958b843",
   "metadata": {},
   "outputs": [],
   "source": [
    "import Text_Processing as TP"
   ]
  },
  {
   "cell_type": "code",
   "execution_count": 3,
   "id": "8236851f-a13f-410f-ac2d-c074082de63a",
   "metadata": {},
   "outputs": [
    {
     "data": {
      "text/plain": [
       "'Hello'"
      ]
     },
     "execution_count": 3,
     "metadata": {},
     "output_type": "execute_result"
    }
   ],
   "source": [
    "TP.remove_punc(\"%&?,!Hello*&^\")"
   ]
  },
  {
   "cell_type": "code",
   "execution_count": 9,
   "id": "deaec953-3914-4d34-bdbc-2856a9d23974",
   "metadata": {},
   "outputs": [
    {
     "data": {
      "text/plain": [
       "'There great woman who loves someone so much loyal to him'"
      ]
     },
     "execution_count": 9,
     "metadata": {},
     "output_type": "execute_result"
    }
   ],
   "source": [
    "str=\"There was a great woman who loves someone so much and loyal to him\"\n",
    "TP.remove_stopwords(str)"
   ]
  },
  {
   "cell_type": "code",
   "execution_count": null,
   "id": "ce8d6137-cb05-4bb8-8ed0-23afec834dd5",
   "metadata": {},
   "outputs": [],
   "source": []
  }
 ],
 "metadata": {
  "kernelspec": {
   "display_name": "Python [conda env:base] *",
   "language": "python",
   "name": "conda-base-py"
  },
  "language_info": {
   "codemirror_mode": {
    "name": "ipython",
    "version": 3
   },
   "file_extension": ".py",
   "mimetype": "text/x-python",
   "name": "python",
   "nbconvert_exporter": "python",
   "pygments_lexer": "ipython3",
   "version": "3.12.7"
  }
 },
 "nbformat": 4,
 "nbformat_minor": 5
}
