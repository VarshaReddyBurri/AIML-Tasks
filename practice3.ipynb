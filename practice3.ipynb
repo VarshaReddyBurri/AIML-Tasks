{
 "cells": [
  {
   "cell_type": "code",
   "execution_count": 3,
   "id": "9af43657-7ea6-4352-8bd6-89a9af5140c1",
   "metadata": {},
   "outputs": [],
   "source": [
    "lst1=[0,1,2,3,4,5]"
   ]
  },
  {
   "cell_type": "code",
   "execution_count": 5,
   "id": "65d01101-c9ae-4b26-ba78-d768b38b0d7e",
   "metadata": {},
   "outputs": [
    {
     "name": "stdout",
     "output_type": "stream",
     "text": [
      "{0, 1, 2, 3, 4, 5}\n",
      "<class 'set'>\n"
     ]
    }
   ],
   "source": [
    "s2=set(lst1)\n",
    "print(s2)\n",
    "print(type(s2))"
   ]
  },
  {
   "cell_type": "code",
   "execution_count": 11,
   "id": "e7935901-888a-4367-be66-7738e540dcb5",
   "metadata": {},
   "outputs": [],
   "source": [
    "s1={1,2,3,4}\n",
    "s2={4,5,6,7}"
   ]
  },
  {
   "cell_type": "code",
   "execution_count": 13,
   "id": "f38c89a3-9d18-4bff-89e0-4111dd99379c",
   "metadata": {},
   "outputs": [
    {
     "data": {
      "text/plain": [
       "{1, 2, 3, 4, 5, 6, 7}"
      ]
     },
     "execution_count": 13,
     "metadata": {},
     "output_type": "execute_result"
    }
   ],
   "source": [
    "s1 | s2"
   ]
  },
  {
   "cell_type": "code",
   "execution_count": 15,
   "id": "3399a916-081b-4d49-8431-4e42c9a3c640",
   "metadata": {},
   "outputs": [
    {
     "data": {
      "text/plain": [
       "{1, 2, 3, 4, 5, 6, 7}"
      ]
     },
     "execution_count": 15,
     "metadata": {},
     "output_type": "execute_result"
    }
   ],
   "source": [
    "s1.union(s2)"
   ]
  },
  {
   "cell_type": "code",
   "execution_count": 17,
   "id": "3947e22e-9d03-45d2-9e77-0669ceb2bf06",
   "metadata": {},
   "outputs": [],
   "source": [
    "s1={3,4,6,21}\n",
    "s2={21,6,14,20}"
   ]
  },
  {
   "cell_type": "code",
   "execution_count": 19,
   "id": "a92d839d-e09f-473f-a10a-6d577533bdcb",
   "metadata": {},
   "outputs": [
    {
     "data": {
      "text/plain": [
       "{6, 21}"
      ]
     },
     "execution_count": 19,
     "metadata": {},
     "output_type": "execute_result"
    }
   ],
   "source": [
    "s1&s2"
   ]
  },
  {
   "cell_type": "code",
   "execution_count": 21,
   "id": "abd7274a-7fe0-424c-8117-178156bf5723",
   "metadata": {},
   "outputs": [],
   "source": [
    "s1={3,4,6,21}\n",
    "s2={21,6,14,20}"
   ]
  },
  {
   "cell_type": "code",
   "execution_count": 23,
   "id": "e5bc8df0-7193-4889-a02c-046a3240bdcb",
   "metadata": {},
   "outputs": [
    {
     "data": {
      "text/plain": [
       "{3, 4}"
      ]
     },
     "execution_count": 23,
     "metadata": {},
     "output_type": "execute_result"
    }
   ],
   "source": [
    "s1-s2"
   ]
  },
  {
   "cell_type": "code",
   "execution_count": 25,
   "id": "eafb159f-92b7-49a7-bae1-7828d7e48132",
   "metadata": {},
   "outputs": [],
   "source": [
    "s1={1,2,3,4,5}\n",
    "s2={4,5,6,7,8}"
   ]
  },
  {
   "cell_type": "code",
   "execution_count": 27,
   "id": "094e067e-1f7c-4042-af21-3651f97abac0",
   "metadata": {},
   "outputs": [
    {
     "data": {
      "text/plain": [
       "{1, 2, 3, 6, 7, 8}"
      ]
     },
     "execution_count": 27,
     "metadata": {},
     "output_type": "execute_result"
    }
   ],
   "source": [
    "s1.symmetric_difference(s2)"
   ]
  },
  {
   "cell_type": "code",
   "execution_count": 29,
   "id": "89f22ee7-e54c-4df8-99d9-9b27219a8691",
   "metadata": {},
   "outputs": [
    {
     "data": {
      "text/plain": [
       "{1, 2, 3, 6, 7, 8}"
      ]
     },
     "execution_count": 29,
     "metadata": {},
     "output_type": "execute_result"
    }
   ],
   "source": [
    "s2.symmetric_difference(s1)"
   ]
  },
  {
   "cell_type": "code",
   "execution_count": 49,
   "id": "327f91d0-49b5-4c21-999c-e6cc72aef653",
   "metadata": {},
   "outputs": [
    {
     "name": "stdout",
     "output_type": "stream",
     "text": [
      "HELOO WORLD!!!\n",
      "Welcome to MALLA REDDY UNIVERSITY\n",
      "This was an awesome class\n"
     ]
    }
   ],
   "source": [
    "str1=\"HELOO WORLD!!!\"\n",
    "print(str1)\n",
    "str2=\"Welcome to MALLA REDDY UNIVERSITY\"\n",
    "print(str2)\n",
    "str3=\"This was an awesome class\"\n",
    "print(str3)"
   ]
  },
  {
   "cell_type": "code",
   "execution_count": 37,
   "id": "01c56ed9-1adb-4635-8a06-f5631bedf50c",
   "metadata": {},
   "outputs": [
    {
     "name": "stdout",
     "output_type": "stream",
     "text": [
      "WOwwww...... Chicken Curry\n"
     ]
    }
   ],
   "source": [
    "str4=\"WOwwww...... Chicken Curry\"\n",
    "print(str4)"
   ]
  },
  {
   "cell_type": "code",
   "execution_count": 45,
   "id": "adc5af98-8674-4c9c-874f-5da2b25af95f",
   "metadata": {},
   "outputs": [
    {
     "name": "stdout",
     "output_type": "stream",
     "text": [
      "He said,\"It's Awesome\n"
     ]
    }
   ],
   "source": [
    "str5 = '''He said,\"It's Awesome'''\n",
    "print(str5)"
   ]
  },
  {
   "cell_type": "code",
   "execution_count": 1,
   "id": "770a8bc6-82f7-4f53-abcb-8fbd37a8d090",
   "metadata": {},
   "outputs": [],
   "source": [
    "sales_data = {\n",
    "    \"ProductID\": [101, 102, 103, 104, 105, 106, 107, 108, 109, 110],\n",
    "    \"ProductName\": [\"Laptop\", \"Mouse\", \"Keyboard\", \"Monitor\", \"Chair\", \"Desk\", \"Webcam\", \"Headphones\", \"Printer\", \"Tablet\"],\n",
    "    \"Category\": [\"Electronics\", \"Accessories\", \"Accessories\", \"Electronics\", \"Furniture\", \"Furniture\", \"Electronics\", \"Accessories\", \"Electronics\", \"Electronics\"],\n",
    "    \"PriceRange\": [\"High\", \"Low\", \"Low\", \"Medium\", \"Medium\", \"Medium\", \"Low\", \"Low\", \"Medium\", \"High\"],\n",
    "    \"StockAvailable\": [15, 100, 75, 20, 10, 8, 50, 60, 25, 12],\n",
    "}"
   ]
  },
  {
   "cell_type": "code",
   "execution_count": 3,
   "id": "7c4202dd-d542-4dfe-9a98-689ee16f72f0",
   "metadata": {},
   "outputs": [
    {
     "name": "stdout",
     "output_type": "stream",
     "text": [
      "ProductID {101, 102, 103, 104, 105, 106, 107, 108, 109, 110},/n\n",
      "ProductName {'Webcam', 'Mouse', 'Monitor', 'Chair', 'Laptop', 'Printer', 'Tablet', 'Headphones', 'Desk', 'Keyboard'},/n\n",
      "Category {'Furniture', 'Accessories', 'Electronics'},/n\n",
      "PriceRange {'Medium', 'Low', 'High'},/n\n",
      "StockAvailable {100, 8, 10, 75, 12, 15, 50, 20, 25, 60},/n\n"
     ]
    }
   ],
   "source": [
    "for k,v in sales_data.items():\n",
    "    print(k,set(v), end =',')\n",
    "    print('/n')"
   ]
  },
  {
   "cell_type": "code",
   "execution_count": null,
   "id": "640678c1-dbd5-45d3-921e-0c81890bd023",
   "metadata": {},
   "outputs": [],
   "source": []
  }
 ],
 "metadata": {
  "kernelspec": {
   "display_name": "Python [conda env:base] *",
   "language": "python",
   "name": "conda-base-py"
  },
  "language_info": {
   "codemirror_mode": {
    "name": "ipython",
    "version": 3
   },
   "file_extension": ".py",
   "mimetype": "text/x-python",
   "name": "python",
   "nbconvert_exporter": "python",
   "pygments_lexer": "ipython3",
   "version": "3.12.7"
  }
 },
 "nbformat": 4,
 "nbformat_minor": 5
}
