{
 "cells": [
  {
   "cell_type": "code",
   "execution_count": 3,
   "id": "3531072b-a58a-4ba7-8d05-4a2cbd23e381",
   "metadata": {},
   "outputs": [
    {
     "name": "stdout",
     "output_type": "stream",
     "text": [
      "even\n"
     ]
    }
   ],
   "source": [
    "num=6\n",
    "if num%2==0:\n",
    "    print(\"even\")\n",
    "else:\n",
    "    print(\"odd\")"
   ]
  },
  {
   "cell_type": "code",
   "execution_count": 13,
   "id": "fc52a3c7-c2ad-41b9-b636-ca14af9da480",
   "metadata": {},
   "outputs": [
    {
     "name": "stdout",
     "output_type": "stream",
     "text": [
      "Even\n"
     ]
    }
   ],
   "source": [
    "print(\"Even\") if num%2==0 else print(\"Odd\")"
   ]
  },
  {
   "cell_type": "code",
   "execution_count": 11,
   "id": "5c7b1f90-e4ae-48f6-883d-df54d555ce5e",
   "metadata": {},
   "outputs": [
    {
     "name": "stdout",
     "output_type": "stream",
     "text": [
      "Positive\n"
     ]
    }
   ],
   "source": [
    "x=10\n",
    "result=\"Positive\" if x>0 else \"Negative\"\n",
    "print(result)"
   ]
  },
  {
   "cell_type": "code",
   "execution_count": 15,
   "id": "fa94c7e5-db52-4e93-a8e1-8339b5e04bbd",
   "metadata": {},
   "outputs": [
    {
     "name": "stdout",
     "output_type": "stream",
     "text": [
      "Adult\n"
     ]
    }
   ],
   "source": [
    "age=18\n",
    "category=\"Adult\" if age>=18 else \"Minor\"\n",
    "print(category)"
   ]
  },
  {
   "cell_type": "code",
   "execution_count": 19,
   "id": "601d1f51-a741-4d1c-9c59-156a20a163ac",
   "metadata": {},
   "outputs": [
    {
     "name": "stdin",
     "output_type": "stream",
     "text": [
      " -5\n"
     ]
    },
    {
     "name": "stdout",
     "output_type": "stream",
     "text": [
      "Negative\n"
     ]
    }
   ],
   "source": [
    "num=int(input())\n",
    "result=\"Positive\" if num>0 else \"Negative\" if num<0 else \"ZERO(0)\"\n",
    "print(result)"
   ]
  },
  {
   "cell_type": "code",
   "execution_count": 21,
   "id": "ab0fed11-a0af-4710-b9f7-58df55deac9f",
   "metadata": {},
   "outputs": [
    {
     "data": {
      "text/plain": [
       "[24, 44, 64, 84, 104]"
      ]
     },
     "execution_count": 21,
     "metadata": {},
     "output_type": "execute_result"
    }
   ],
   "source": [
    "L=[12,22,32,42,52]\n",
    "[2*x for x in L]"
   ]
  },
  {
   "cell_type": "code",
   "execution_count": 27,
   "id": "be2e78a2-fe2b-4a4e-9a64-7474184c68a1",
   "metadata": {},
   "outputs": [
    {
     "data": {
      "text/plain": [
       "[18, 36]"
      ]
     },
     "execution_count": 27,
     "metadata": {},
     "output_type": "execute_result"
    }
   ],
   "source": [
    "#print even numbers\n",
    "L=[13,18,23,33,36,43,53,63]\n",
    "[x for x in L if x%2==0]"
   ]
  },
  {
   "cell_type": "code",
   "execution_count": 29,
   "id": "9b75307d-bd7b-4a9f-84e2-74b62989be2a",
   "metadata": {},
   "outputs": [
    {
     "data": {
      "text/plain": [
       "[13, 23, 33, 43, 53, 63]"
      ]
     },
     "execution_count": 29,
     "metadata": {},
     "output_type": "execute_result"
    }
   ],
   "source": [
    "# print odd numbers\n",
    "[x for x in L if x%2!=0]"
   ]
  },
  {
   "cell_type": "code",
   "execution_count": 31,
   "id": "b0dc32fe-b146-4516-a472-f38c3a2f3f6f",
   "metadata": {},
   "outputs": [
    {
     "data": {
      "text/plain": [
       "{'Ram': [70, 71, 98, 100], 'Sita': [89, 78, 99, 75], 'Prem': [76, 98, 91, 87]}"
      ]
     },
     "execution_count": 31,
     "metadata": {},
     "output_type": "execute_result"
    }
   ],
   "source": [
    "d1={'Ram':[70,71,98,100],'Sita':[89,78,99,75],'Prem':[76,98,91,87]}\n",
    "d1"
   ]
  },
  {
   "cell_type": "code",
   "execution_count": 33,
   "id": "65042be1-215e-43ed-83b3-ce3a032900f9",
   "metadata": {},
   "outputs": [
    {
     "data": {
      "text/plain": [
       "{'Ram': 84.75, 'Sita': 85.25, 'Prem': 88.0}"
      ]
     },
     "execution_count": 33,
     "metadata": {},
     "output_type": "execute_result"
    }
   ],
   "source": [
    "{k:sum(v)/len(v) for k,v in d1.items()}"
   ]
  },
  {
   "cell_type": "code",
   "execution_count": 35,
   "id": "7cdf5f1b-040e-44f8-944f-3ca5adfa6b22",
   "metadata": {},
   "outputs": [],
   "source": [
    "def mean_value(given_list):\n",
    "    total=sum(given_list)\n",
    "    average_value=total/len(given_list)\n",
    "    return average_value"
   ]
  },
  {
   "cell_type": "code",
   "execution_count": 37,
   "id": "d008c4cd-1fde-40a1-8a35-bdf74a963ad0",
   "metadata": {},
   "outputs": [
    {
     "data": {
      "text/plain": [
       "5.5"
      ]
     },
     "execution_count": 37,
     "metadata": {},
     "output_type": "execute_result"
    }
   ],
   "source": [
    "L=[1,2,3,4,5,6,7,8,9,10]\n",
    "mean_value(L)"
   ]
  },
  {
   "cell_type": "code",
   "execution_count": 1,
   "id": "515004df-3de1-4cba-af47-178d86077228",
   "metadata": {},
   "outputs": [
    {
     "data": {
      "text/plain": [
       "'Good Morning Varsha Reddy'"
      ]
     },
     "execution_count": 1,
     "metadata": {},
     "output_type": "execute_result"
    }
   ],
   "source": [
    "def greet(name):\n",
    "    greet=\"Good Morning \"\n",
    "    result=greet+name\n",
    "    return result\n",
    "name = \"Varsha Reddy\"\n",
    "greet(name)"
   ]
  },
  {
   "cell_type": "code",
   "execution_count": 3,
   "id": "7ff10df9-fe26-40a7-8a99-940d1877c518",
   "metadata": {},
   "outputs": [],
   "source": [
    "def avg_value(*n):\n",
    "    l = len(n)\n",
    "    average = sum(n)/1\n",
    "    return average"
   ]
  },
  {
   "cell_type": "code",
   "execution_count": 5,
   "id": "b45956b5-bbfa-45e4-a410-0c998b529e87",
   "metadata": {},
   "outputs": [
    {
     "data": {
      "text/plain": [
       "157.0"
      ]
     },
     "execution_count": 5,
     "metadata": {},
     "output_type": "execute_result"
    }
   ],
   "source": [
    "avg_value(3,4,6,11,12,21,100)"
   ]
  },
  {
   "cell_type": "markdown",
   "id": "8d1c3de0-708f-4b2b-943b-a255fab15931",
   "metadata": {},
   "source": [
    "# LAMBDA FUNCTION"
   ]
  },
  {
   "cell_type": "code",
   "execution_count": 14,
   "id": "3b645167-a55d-4748-b6b5-93ca6cbc97c0",
   "metadata": {},
   "outputs": [],
   "source": [
    "greet = lambda name : print(f\"Good Morning {name}!\") "
   ]
  },
  {
   "cell_type": "code",
   "execution_count": 16,
   "id": "aab02acb-2d08-4fea-b693-c55161060348",
   "metadata": {},
   "outputs": [
    {
     "name": "stdout",
     "output_type": "stream",
     "text": [
      "Good Morning Lakshmi Prasanna!\n"
     ]
    }
   ],
   "source": [
    "greet(\"Lakshmi Prasanna\")"
   ]
  },
  {
   "cell_type": "code",
   "execution_count": 18,
   "id": "53c05eb6-09bf-4da3-b39c-d3aee6fd36fb",
   "metadata": {},
   "outputs": [],
   "source": [
    "product = lambda a,b,c : a*b*c"
   ]
  },
  {
   "cell_type": "code",
   "execution_count": 24,
   "id": "f1fb6c95-6635-4644-9456-c011661c40ed",
   "metadata": {},
   "outputs": [
    {
     "data": {
      "text/plain": [
       "792"
      ]
     },
     "execution_count": 24,
     "metadata": {},
     "output_type": "execute_result"
    }
   ],
   "source": [
    "product(6,11,12)"
   ]
  },
  {
   "cell_type": "code",
   "execution_count": 32,
   "id": "0343b30c-e15b-4b10-8fd6-a06b273288e3",
   "metadata": {},
   "outputs": [],
   "source": [
    "# lambda with list comprehensions(1 line lazy function() )"
   ]
  },
  {
   "cell_type": "code",
   "execution_count": 28,
   "id": "9f26568d-ba2e-450a-837e-caea73d85d66",
   "metadata": {},
   "outputs": [],
   "source": [
    "even = lambda L : [x for x in L if x%2==0]"
   ]
  },
  {
   "cell_type": "code",
   "execution_count": 36,
   "id": "9451a81b-c136-4c6b-9fda-77032dfb7409",
   "metadata": {},
   "outputs": [
    {
     "data": {
      "text/plain": [
       "[100, 98, 96]"
      ]
     },
     "execution_count": 36,
     "metadata": {},
     "output_type": "execute_result"
    }
   ],
   "source": [
    "my_list=[100,99,98,97,96,95]\n",
    "even(my_list)"
   ]
  },
  {
   "cell_type": "code",
   "execution_count": null,
   "id": "06e6e7e4-9230-40d1-b6d9-3de40f30631c",
   "metadata": {},
   "outputs": [],
   "source": []
  }
 ],
 "metadata": {
  "kernelspec": {
   "display_name": "Python [conda env:base] *",
   "language": "python",
   "name": "conda-base-py"
  },
  "language_info": {
   "codemirror_mode": {
    "name": "ipython",
    "version": 3
   },
   "file_extension": ".py",
   "mimetype": "text/x-python",
   "name": "python",
   "nbconvert_exporter": "python",
   "pygments_lexer": "ipython3",
   "version": "3.12.7"
  }
 },
 "nbformat": 4,
 "nbformat_minor": 5
}
