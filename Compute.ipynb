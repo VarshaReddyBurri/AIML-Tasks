{
 "cells": [
  {
   "cell_type": "code",
   "execution_count": 62,
   "id": "1f09f7f1-38c6-4542-9fea-6db784f62566",
   "metadata": {},
   "outputs": [],
   "source": [
    "def mean_value(given_list):\n",
    "    total=sum(given_list)\n",
    "    average_value=total/len(given_list)\n",
    "    return average_value"
   ]
  },
  {
   "cell_type": "code",
   "execution_count": 64,
   "id": "8cd2e347-48ea-427c-a86d-45fc0e88f1ba",
   "metadata": {},
   "outputs": [
    {
     "data": {
      "text/plain": [
       "5.5"
      ]
     },
     "execution_count": 64,
     "metadata": {},
     "output_type": "execute_result"
    }
   ],
   "source": [
    "L=[1,2,3,4,5,6,7,8,9,10]\n",
    "mean_value(L)"
   ]
  },
  {
   "cell_type": "code",
   "execution_count": 48,
   "id": "2c112ec8-da81-4143-a689-4ab48584f636",
   "metadata": {},
   "outputs": [],
   "source": [
    "def median_value(*n):\n",
    "    num_list=list(n)\n",
    "    num_list=list(n)\n",
    "    num_list.sort()\n",
    "    l=len(num_list)\n",
    "    \n",
    "    if l%2==0:\n",
    "        median=(num_list[int(l/2)] + num_list[int((l/2))-1])/2\n",
    "    else:\n",
    "        median = num_list[int(l/2)]\n",
    "    return median"
   ]
  },
  {
   "cell_type": "code",
   "execution_count": 52,
   "id": "95a6fb98-ec2a-4079-bab2-1d84d3973c78",
   "metadata": {},
   "outputs": [
    {
     "data": {
      "text/plain": [
       "5.5"
      ]
     },
     "execution_count": 52,
     "metadata": {},
     "output_type": "execute_result"
    }
   ],
   "source": [
    "median_value(1,2,3,4,5,6,7,8,9,10)"
   ]
  }
 ],
 "metadata": {
  "kernelspec": {
   "display_name": "Python [conda env:base] *",
   "language": "python",
   "name": "conda-base-py"
  },
  "language_info": {
   "codemirror_mode": {
    "name": "ipython",
    "version": 3
   },
   "file_extension": ".py",
   "mimetype": "text/x-python",
   "name": "python",
   "nbconvert_exporter": "python",
   "pygments_lexer": "ipython3",
   "version": "3.12.7"
  }
 },
 "nbformat": 4,
 "nbformat_minor": 5
}
