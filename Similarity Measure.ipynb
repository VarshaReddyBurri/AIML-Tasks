{
 "cells": [
  {
   "cell_type": "code",
   "execution_count": 17,
   "id": "816f72aa-8b16-41f6-8bb2-cd1001f6a6e9",
   "metadata": {},
   "outputs": [],
   "source": [
    "import numpy as np\n",
    "import pandas as pd\n",
    "from scipy.spatial.distance import cosine, euclidean\n",
    "from scipy.stats import pearsonr"
   ]
  },
  {
   "cell_type": "code",
   "execution_count": 3,
   "id": "dd576061-5e30-446b-8ed1-445c961d1654",
   "metadata": {},
   "outputs": [],
   "source": [
    "# Sample user rating data on a scale of 5\n",
    "user1 = np.array([4,5,2,3,4])\n",
    "user2 = np.array([5,3,2,4,5])"
   ]
  },
  {
   "cell_type": "code",
   "execution_count": 5,
   "id": "055ef128-7d48-4194-8f39-4aaf39985157",
   "metadata": {},
   "outputs": [
    {
     "name": "stdout",
     "output_type": "stream",
     "text": [
      "Cosine SImilarity: 0.9548\n"
     ]
    }
   ],
   "source": [
    "# 1. Cosine Similarity; (1 - cosine distance) gives similarity)\n",
    "cosine_similarity = 1 - cosine(user1,user2)\n",
    "print(f\"Cosine SImilarity: {cosine_similarity:.4f}\")"
   ]
  },
  {
   "cell_type": "code",
   "execution_count": 9,
   "id": "ccefa3ba-c230-4261-94ab-870243e2cc9b",
   "metadata": {},
   "outputs": [
    {
     "name": "stdout",
     "output_type": "stream",
     "text": [
      "Pearson Correlation Similarity: 0.4372\n",
      "0.4615774298689228\n"
     ]
    }
   ],
   "source": [
    "# 2. Pearson Correlation similarity which returns correlation coefficient\n",
    "pearson_corr,_=pearsonr(user1,user2)\n",
    "print(f\"Pearson Correlation Similarity: {pearson_corr:.4f}\")\n",
    "print(_)"
   ]
  },
  {
   "cell_type": "code",
   "execution_count": 13,
   "id": "20dddf66-e1dc-4c1d-8346-f8916473a445",
   "metadata": {},
   "outputs": [
    {
     "name": "stdout",
     "output_type": "stream",
     "text": [
      "Euclidean Distance Similarity: 0.2743\n"
     ]
    }
   ],
   "source": [
    "# 3. Euclidean Distance Similarity\n",
    "euclidean_distance = euclidean(user1,user2)\n",
    "\n",
    "# Normalize to similarity range[0,1]\n",
    "euclidean_similarity = 1 / (1 + euclidean_distance)\n",
    "print(f\"Euclidean Distance Similarity: {euclidean_similarity:.4f}\")"
   ]
  },
  {
   "cell_type": "code",
   "execution_count": 41,
   "id": "fe36f2d3-d01f-4407-9f42-c11e0ed3c646",
   "metadata": {},
   "outputs": [],
   "source": [
    "Raju=np.array([5,3,4,4,2])\n",
    "John=np.array([3,1,2,3,3])\n",
    "Ramya=np.array([4,3,4,5,1])\n",
    "Kishore=np.array([2,2,1,2,4])"
   ]
  },
  {
   "cell_type": "code",
   "execution_count": 43,
   "id": "91b0151b-fa12-4b84-8361-bf655abc6816",
   "metadata": {},
   "outputs": [
    {
     "name": "stdout",
     "output_type": "stream",
     "text": [
      "cosine similarity: 0.9297\n"
     ]
    }
   ],
   "source": [
    "cosine_similarity=1-cosine(Raju, John)\n",
    "print(f\"cosine similarity: {cosine_similarity:.4f}\")"
   ]
  },
  {
   "cell_type": "code",
   "execution_count": null,
   "id": "f9881dd9-b7f5-4c08-a1a7-0a52aeb0d1ee",
   "metadata": {},
   "outputs": [],
   "source": [
    "cosine_similarity=1-cosine(Raju, John)\n",
    "print(f\"cosine similarity: {cosine_similarity:.4f}\")"
   ]
  }
 ],
 "metadata": {
  "kernelspec": {
   "display_name": "Python [conda env:base] *",
   "language": "python",
   "name": "conda-base-py"
  },
  "language_info": {
   "codemirror_mode": {
    "name": "ipython",
    "version": 3
   },
   "file_extension": ".py",
   "mimetype": "text/x-python",
   "name": "python",
   "nbconvert_exporter": "python",
   "pygments_lexer": "ipython3",
   "version": "3.12.7"
  }
 },
 "nbformat": 4,
 "nbformat_minor": 5
}
